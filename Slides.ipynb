{
 "cells": [
  {
   "cell_type": "markdown",
   "metadata": {
    "slideshow": {
     "slide_type": "slide"
    }
   },
   "source": [
    "# Intro to Julia package development\n",
    "## Principles and examples"
   ]
  },
  {
   "cell_type": "markdown",
   "metadata": {
    "slideshow": {
     "slide_type": "-"
    }
   },
   "source": [
    "Mathieu Besançon  \n",
    "Twitter: @MathieuBesancon   \n",
    "mbesancon.github.io  \n",
    "<div style=\"text-align: right\"> Julia Montréal February Meetup </div>"
   ]
  },
  {
   "cell_type": "markdown",
   "metadata": {
    "slideshow": {
     "slide_type": "slide"
    }
   },
   "source": [
    "## Outline\n",
    "\n",
    "* Modules, packages, why bother?\n",
    "* Package structures\n",
    "* Live-coding our first package(s)\n",
    "* Publishing our work on Github"
   ]
  },
  {
   "cell_type": "markdown",
   "metadata": {
    "slideshow": {
     "slide_type": "slide"
    }
   },
   "source": [
    "## Packages & modules, why bother?\n",
    "\n",
    "Julia modules define a scope for variables, functions, ...\n",
    "\n",
    "* Solves the \"two-language problem\" ==> Develop libraries as you use them\n",
    "* Tools make it easy to create, develop, publish (Pkg, PkgDev)"
   ]
  },
  {
   "cell_type": "code",
   "execution_count": 1,
   "metadata": {
    "slideshow": {
     "slide_type": "subslide"
    }
   },
   "outputs": [
    {
     "name": "stdout",
     "output_type": "stream",
     "text": [
      "JuMP.solve = JuMP.solve\n"
     ]
    },
    {
     "data": {
      "text/plain": [
       "solve (generic function with 1 method)"
      ]
     },
     "execution_count": 1,
     "metadata": {},
     "output_type": "execute_result"
    }
   ],
   "source": [
    "import JuMP\n",
    "@show JuMP.solve"
   ]
  },
  {
   "cell_type": "code",
   "execution_count": 3,
   "metadata": {
    "slideshow": {
     "slide_type": "-"
    }
   },
   "outputs": [
    {
     "name": "stdout",
     "output_type": "stream",
     "text": [
      "DifferentialEquations.solve = DiffEqBase.solve\n"
     ]
    },
    {
     "data": {
      "text/plain": [
       "solve (generic function with 34 methods)"
      ]
     },
     "execution_count": 3,
     "metadata": {},
     "output_type": "execute_result"
    }
   ],
   "source": [
    "import DifferentialEquations\n",
    "@show DifferentialEquations.solve"
   ]
  },
  {
   "cell_type": "markdown",
   "metadata": {
    "slideshow": {
     "slide_type": "subslide"
    }
   },
   "source": [
    "Now getting messy..."
   ]
  },
  {
   "cell_type": "code",
   "execution_count": 4,
   "metadata": {
    "collapsed": true
   },
   "outputs": [],
   "source": [
    "using JuMP # all things from JuMP imported in scope\n",
    "using DifferentialEquations # same for DifferentialEquations"
   ]
  },
  {
   "cell_type": "code",
   "execution_count": 5,
   "metadata": {},
   "outputs": [
    {
     "name": "stderr",
     "output_type": "stream",
     "text": [
      "WARNING: both DifferentialEquations and JuMP export \"solve\"; uses of it in module Main must be qualified\n"
     ]
    },
    {
     "ename": "LoadError",
     "evalue": "\u001b[91mUndefVarError: solve not defined\u001b[39m",
     "output_type": "error",
     "traceback": [
      "\u001b[91mUndefVarError: solve not defined\u001b[39m",
      "",
      "Stacktrace:",
      " [1] \u001b[1minclude_string\u001b[22m\u001b[22m\u001b[1m(\u001b[22m\u001b[22m::String, ::String\u001b[1m)\u001b[22m\u001b[22m at \u001b[1m./loading.jl:522\u001b[22m\u001b[22m"
     ]
    }
   ],
   "source": [
    "# solve?\n",
    "@show solve"
   ]
  },
  {
   "cell_type": "markdown",
   "metadata": {
    "slideshow": {
     "slide_type": "-"
    }
   },
   "source": [
    "When identifier source is ambiguous, call explicit  \n",
    "```julia\n",
    "import MyModule\n",
    "y = MyModule.func(x)\n",
    "``` "
   ]
  },
  {
   "cell_type": "markdown",
   "metadata": {
    "slideshow": {
     "slide_type": "slide"
    }
   },
   "source": [
    "## Package structure\n",
    "\n",
    "Code regrouped for a specific purpose.  \n",
    "* Easily sharable and publishable\n",
    "* Re-usable for different projects\n",
    "\n",
    "![structure](package_structure.png)"
   ]
  },
  {
   "cell_type": "markdown",
   "metadata": {
    "slideshow": {
     "slide_type": "subslide"
    }
   },
   "source": [
    "## Main elements\n",
    "\n",
    "### `src/`\n",
    "\n",
    "Contains the source code you develop, wrapped in at least a module\n",
    "\n",
    "### `test/`\n",
    "\n",
    "Used to import your package and test its expected behavior as a user would.  \n",
    "How well did you test your package? This can't be cheated by `coveralls`.  \n",
    "[Example with LGFlows](https://github.com/JuliaGraphs/LightGraphsFlows.jl)\n",
    "\n",
    "### `REQUIRE`\n",
    "\n",
    "* Manages dependency in Julia up to v0.6\n",
    "* julia v1.0 brings Pkg3 with behavior similar to Cargo\n",
    "\n",
    "### `docs`\n",
    "\n",
    "Detailed documentation of the package built however you like.  \n",
    "The  *Documenter.jl* package is a common choice."
   ]
  },
  {
   "cell_type": "markdown",
   "metadata": {
    "slideshow": {
     "slide_type": "slide"
    }
   },
   "source": [
    "## Live coding a package"
   ]
  },
  {
   "cell_type": "markdown",
   "metadata": {
    "slideshow": {
     "slide_type": "subslide"
    }
   },
   "source": [
    "# FuncMat.jl\n",
    "\n",
    "Matrix elements $m_{ij}$ often defined as a function of the index.  \n",
    "\n",
    "## Identity matrix $I$  \n",
    "* $I_{ij} = 1$ if $i = j$\n",
    "* $I_{ij} = 0$ otherwise\n",
    "\n",
    "\\begin{bmatrix}\n",
    "1 & 0 & 0 &...\\\\\n",
    "0 & 1 & 0 &...\\\\\n",
    "0 & 0 & 1 &...\\\\\n",
    "  &   & ... & \\\\\n",
    "... & &   & 1\\\\\n",
    "\\end{bmatrix}\n"
   ]
  },
  {
   "cell_type": "markdown",
   "metadata": {
    "slideshow": {
     "slide_type": "subslide"
    }
   },
   "source": [
    "## Unit lower triangular matrix $L$\n",
    "\n",
    "* $L_{ij} = 1$ if $i \\geq j$\n",
    "* $L_{ij} = 0$ otherwise\n",
    "\n",
    "\\begin{bmatrix}\n",
    "1 & 0 & 0 &...\\\\\n",
    "1 & 1 & 0 &...\\\\\n",
    "1 & 1 & 1 &...\\\\\n",
    "  &   & ... & \\\\\n",
    "1 & 1 & ... & 1\\\\\n",
    "\\end{bmatrix}\n"
   ]
  },
  {
   "cell_type": "markdown",
   "metadata": {
    "slideshow": {
     "slide_type": "subslide"
    }
   },
   "source": [
    "# ClippedVector.jl\n",
    "\n",
    "Errors in scientific computing:  "
   ]
  },
  {
   "cell_type": "code",
   "execution_count": null,
   "metadata": {},
   "outputs": [],
   "source": [
    "vec = [3, 5, 7]\n",
    "i = 2\n",
    "j = 1\n",
    "elem = vec[length(vec)*i + j] # oh no!\n",
    "> BoundsError: attempt to access 3-element Array{Int64,1} at index [7]"
   ]
  },
  {
   "cell_type": "markdown",
   "metadata": {},
   "source": [
    "-----------------------  \n",
    "\n",
    "Occurs in signal / image filter, time-series analysis, ...  \n",
    "A solution would be a \"clipped access\" to the vector:\n",
    "```julia\n",
    "vec = [3, 5, 7]\n",
    "vec[1] # returns 3\n",
    "vec[0] # would return 3\n",
    "vec[3] # returns 7\n",
    "vec[4] # would return 7\n",
    "```"
   ]
  },
  {
   "cell_type": "markdown",
   "metadata": {
    "slideshow": {
     "slide_type": "slide"
    }
   },
   "source": [
    "Thank you for listening!  \n",
    "Questions?"
   ]
  },
  {
   "cell_type": "code",
   "execution_count": null,
   "metadata": {
    "collapsed": true
   },
   "outputs": [],
   "source": []
  }
 ],
 "metadata": {
  "celltoolbar": "Slideshow",
  "kernelspec": {
   "display_name": "Julia 0.6.2",
   "language": "julia",
   "name": "julia-0.6"
  },
  "language_info": {
   "file_extension": ".jl",
   "mimetype": "application/julia",
   "name": "julia",
   "version": "0.6.2"
  }
 },
 "nbformat": 4,
 "nbformat_minor": 2
}
